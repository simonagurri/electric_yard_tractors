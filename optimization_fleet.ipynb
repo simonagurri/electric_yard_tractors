{
 "cells": [
  {
   "cell_type": "code",
   "execution_count": null,
   "id": "db4ae0e8",
   "metadata": {},
   "outputs": [],
   "source": [
    "import numpy as np\n",
    "from scipy.optimize import minimize, LinearConstraint"
   ]
  },
  {
   "cell_type": "markdown",
   "id": "8e3d8e7e",
   "metadata": {},
   "source": [
    "# Fleet optimisation and charging infrastructure dimensioning\n",
    "## Dynamic programming approach\n",
    "We use the demand at each hour for dimensioning the electric fleet and the charging infrastructure.\n",
    "- We assume that we can choose only one kind of vehicle \n",
    "- We assume that we don't have any budget constrain\n",
    "- We assume that we don't have any maximum power constrain"
   ]
  },
  {
   "cell_type": "markdown",
   "id": "a279c4dd",
   "metadata": {},
   "source": [
    "### Parameter introduction and initialisation"
   ]
  },
  {
   "cell_type": "code",
   "execution_count": 1,
   "id": "73b5f374",
   "metadata": {},
   "outputs": [],
   "source": [
    "import numpy as np\n",
    "from scipy.optimize import minimize, LinearConstraint, SR1\n",
    "\n",
    "rng = np.random.default_rng(seed=40) #seed for reproducible results\n",
    "demand=[10,10,10,12,12,12,10,11,11,10,3,10,10,10,10,10,10,10,4,6,6,4,10,7,10,10,10,10,10,10,4,6,6,4,10,10,10,10,10,10,10,10,4,6,6,4,10,7]\n",
    "T=len(demand)\n",
    "battery_capacity=112 #kWh SOC=100%\n",
    "charging_powers=np.array([7.4, 20, 100, 350])\n",
    "r_s=[1/(battery_capacity/charging_powers[0])*100, 1/(0.95*battery_capacity/charging_powers[1]+0.5)*100, 1/(0.95*battery_capacity/charging_powers[2]+0.5)*100, 1/(0.95*battery_capacity/charging_powers[3]+0.5)*100] #recharge rate 1/h\n",
    "investment_cost=100000 #euros\n",
    "electricity_cost=np.array([1, 3, 5, 8])\n",
    "power_per_hour=14.43 #kW/h\n",
    "d_s=1/(battery_capacity/power_per_hour)*100 #discharge rate 1/h\n",
    "E_diss=0 #energy consumption in operation\n",
    "E_abs=0 #energy used in charge\n",
    "f=[0, 0, 0, 0] #counter of stations for each charging power\n",
    "v_t=demand[0] #initialization of n. min of vehicles to satisfy the demand of the first time\n",
    "x=np.zeros((v_t,len(charging_powers))) #decision variable, vehicles per station #, dtype=bool_\n",
    "threshold=20 #SOC % for safety reason\n",
    "SOC=np.zeros((v_t, 2))\n",
    "charging=0\n",
    "\n",
    "for j in range(v_t):\n",
    "    SOC[j][0]=rng.integers(low=50, high=100, size=1) #initial SOC randomly chosen\n",
    "    \n",
    "E_abs=sum(SOC[:,0])# for j in range(v_t))\n",
    "cost=np.zeros(T)\n",
    "\n",
    "def cost_function(x, delta_SOC, electricity_cost, investment_cost, v_t):\n",
    "    re_delta=np.tile(delta_SOC, len(electricity_cost))\n",
    "    re_elt=np.stack([electricity_cost[0].repeat(len(delta_SOC)),electricity_cost[1].repeat(len(delta_SOC)),electricity_cost[2].repeat(len(delta_SOC)),electricity_cost[3].repeat(len(delta_SOC))]).reshape(-1)\n",
    "    return investment_cost*v_t + sum(re_delta* x * re_elt) #objective function #.reshape(-1)\n",
    "\n",
    "# def cost_function(x, delta_SOC, electricity_cost, investment_cost, v_t):\n",
    "# #     re_delta=np.tile(delta_SOC, len(electricity_cost))\n",
    "# #     re_elt=np.stack([electricity_cost[0].repeat(len(delta_SOC)),electricity_cost[1].repeat(len(delta_SOC)),electricity_cost[2].repeat(len(delta_SOC)),electricity_cost[3].repeat(len(delta_SOC))]).reshape(-1)\n",
    "#     return investment_cost*v_t + np.dot(np.dot(delta_SOC,x), electricity_cost) #objective function\n",
    "\n",
    "# def x_number(x, charging):\n",
    "#     return sum(sum(x))-charging #the active variables must be equal to the n. of vehicles that need charging\n",
    "\n",
    "# def x_pow(x):\n",
    "#     return sum(x[:,1])-1  #I can not charge one vehicle with more than one mode\n",
    "\n",
    "# def x_bool(x): \n",
    "#     pass\n",
    "cons = [{'type': 'eq', 'fun': lambda x: np.sum(x.reshape(-1))-charging}, #not respected, why?\n",
    "        {'type': 'ineq', 'fun': lambda x: 1-np.sum(x[0])},\n",
    "        {'type': 'ineq', 'fun': lambda x: 1-np.sum(x[1])},\n",
    "        {'type': 'ineq', 'fun': lambda x: 1-np.sum(x[2])},\n",
    "        {'type': 'ineq', 'fun': lambda x: 1-np.sum(x[3])}]\n",
    "\n",
    "delta_SOC = np.zeros(v_t)\n",
    "#cons=[{'type':'eq', 'fun': sum(sum(x))-charging}, {'type':'eq', 'fun': sum(x[:,1])-1},]\n",
    "#argss=(x, delta_SOC, electricity_cost, investment_cost, v_t)"
   ]
  },
  {
   "cell_type": "code",
   "execution_count": 2,
   "id": "58cdcb34",
   "metadata": {},
   "outputs": [
    {
     "data": {
      "text/plain": [
       "array([[0., 0., 0., 0.],\n",
       "       [0., 0., 0., 0.],\n",
       "       [0., 0., 0., 0.],\n",
       "       [0., 0., 0., 0.],\n",
       "       [0., 0., 0., 0.],\n",
       "       [0., 0., 0., 0.],\n",
       "       [0., 0., 0., 0.],\n",
       "       [0., 0., 0., 0.],\n",
       "       [0., 0., 0., 0.],\n",
       "       [0., 0., 0., 0.]])"
      ]
     },
     "execution_count": 2,
     "metadata": {},
     "output_type": "execute_result"
    }
   ],
   "source": [
    "x"
   ]
  },
  {
   "cell_type": "code",
   "execution_count": 3,
   "id": "38dd868b",
   "metadata": {},
   "outputs": [
    {
     "name": "stderr",
     "output_type": "stream",
     "text": [
      "/var/folders/x8/typb4bcj1d978dqysxq0mc0r0000gn/T/ipykernel_83323/1621615624.py:6: DeprecationWarning: Use of `minimize` with `x0.ndim != 1` is deprecated. Currently, singleton dimensions will be removed from `x0`, but an error will be raised in SciPy 1.11.0.\n",
      "  res = minimize(\n"
     ]
    },
    {
     "ename": "ValueError",
     "evalue": "`x0` must have at most 1 dimension.",
     "output_type": "error",
     "traceback": [
      "\u001b[0;31m---------------------------------------------------------------------------\u001b[0m",
      "\u001b[0;31mValueError\u001b[0m                                Traceback (most recent call last)",
      "Cell \u001b[0;32mIn[3], line 6\u001b[0m\n\u001b[1;32m      2\u001b[0m \u001b[38;5;28;01mfor\u001b[39;00m t \u001b[38;5;129;01min\u001b[39;00m \u001b[38;5;28mrange\u001b[39m(T): \u001b[38;5;66;03m#for each hour\u001b[39;00m\n\u001b[1;32m      4\u001b[0m     x_0 \u001b[38;5;241m=\u001b[39m x\u001b[38;5;66;03m#.reshape(-1)\u001b[39;00m\n\u001b[0;32m----> 6\u001b[0m     res \u001b[38;5;241m=\u001b[39m \u001b[43mminimize\u001b[49m\u001b[43m(\u001b[49m\n\u001b[1;32m      7\u001b[0m \u001b[43m        \u001b[49m\u001b[43mcost_function\u001b[49m\u001b[43m,\u001b[49m\u001b[43m \u001b[49m\n\u001b[1;32m      8\u001b[0m \u001b[43m        \u001b[49m\u001b[43mmethod\u001b[49m\u001b[38;5;241;43m=\u001b[39;49m\u001b[38;5;124;43m'\u001b[39;49m\u001b[38;5;124;43mtrust-constr\u001b[39;49m\u001b[38;5;124;43m'\u001b[39;49m\u001b[43m,\u001b[49m\n\u001b[1;32m      9\u001b[0m \u001b[43m        \u001b[49m\u001b[38;5;66;43;03m#jac='2-point', \u001b[39;49;00m\n\u001b[1;32m     10\u001b[0m \u001b[43m        \u001b[49m\u001b[38;5;66;43;03m#hess=SR1(),\u001b[39;49;00m\n\u001b[1;32m     11\u001b[0m \u001b[43m        \u001b[49m\u001b[43mx0\u001b[49m\u001b[38;5;241;43m=\u001b[39;49m\u001b[43mx_0\u001b[49m\u001b[43m,\u001b[49m\u001b[43m \u001b[49m\n\u001b[1;32m     12\u001b[0m \u001b[43m        \u001b[49m\u001b[43margs\u001b[49m\u001b[38;5;241;43m=\u001b[39;49m\u001b[43m(\u001b[49m\u001b[43mdelta_SOC\u001b[49m\u001b[43m,\u001b[49m\u001b[43m \u001b[49m\u001b[43melectricity_cost\u001b[49m\u001b[43m,\u001b[49m\u001b[43m \u001b[49m\u001b[43minvestment_cost\u001b[49m\u001b[43m,\u001b[49m\u001b[43m \u001b[49m\u001b[43mv_t\u001b[49m\u001b[43m)\u001b[49m\u001b[43m,\u001b[49m\u001b[43m \u001b[49m\n\u001b[1;32m     13\u001b[0m \u001b[43m        \u001b[49m\u001b[43mconstraints\u001b[49m\u001b[38;5;241;43m=\u001b[39;49m\u001b[43mcons\u001b[49m\n\u001b[1;32m     14\u001b[0m \u001b[43m    \u001b[49m\u001b[43m)\u001b[49m\n\u001b[1;32m     16\u001b[0m     cost[t]\u001b[38;5;241m=\u001b[39mnp\u001b[38;5;241m.\u001b[39mfloat64(res\u001b[38;5;241m.\u001b[39mfun)\u001b[38;5;241m-\u001b[39minvestment_cost\u001b[38;5;241m*\u001b[39mv_t\n\u001b[1;32m     18\u001b[0m     \u001b[38;5;28;01mfor\u001b[39;00m i \u001b[38;5;129;01min\u001b[39;00m \u001b[38;5;28mrange\u001b[39m(\u001b[38;5;28mlen\u001b[39m(electricity_cost)):\n",
      "File \u001b[0;32m~/Library/Python/3.9/lib/python/site-packages/scipy/optimize/_minimize.py:708\u001b[0m, in \u001b[0;36mminimize\u001b[0;34m(fun, x0, args, method, jac, hess, hessp, bounds, constraints, tol, callback, options)\u001b[0m\n\u001b[1;32m    705\u001b[0m     res \u001b[38;5;241m=\u001b[39m _minimize_slsqp(fun, x0, args, jac, bounds,\n\u001b[1;32m    706\u001b[0m                           constraints, callback\u001b[38;5;241m=\u001b[39mcallback, \u001b[38;5;241m*\u001b[39m\u001b[38;5;241m*\u001b[39moptions)\n\u001b[1;32m    707\u001b[0m \u001b[38;5;28;01melif\u001b[39;00m meth \u001b[38;5;241m==\u001b[39m \u001b[38;5;124m'\u001b[39m\u001b[38;5;124mtrust-constr\u001b[39m\u001b[38;5;124m'\u001b[39m:\n\u001b[0;32m--> 708\u001b[0m     res \u001b[38;5;241m=\u001b[39m \u001b[43m_minimize_trustregion_constr\u001b[49m\u001b[43m(\u001b[49m\u001b[43mfun\u001b[49m\u001b[43m,\u001b[49m\u001b[43m \u001b[49m\u001b[43mx0\u001b[49m\u001b[43m,\u001b[49m\u001b[43m \u001b[49m\u001b[43margs\u001b[49m\u001b[43m,\u001b[49m\u001b[43m \u001b[49m\u001b[43mjac\u001b[49m\u001b[43m,\u001b[49m\u001b[43m \u001b[49m\u001b[43mhess\u001b[49m\u001b[43m,\u001b[49m\u001b[43m \u001b[49m\u001b[43mhessp\u001b[49m\u001b[43m,\u001b[49m\n\u001b[1;32m    709\u001b[0m \u001b[43m                                       \u001b[49m\u001b[43mbounds\u001b[49m\u001b[43m,\u001b[49m\u001b[43m \u001b[49m\u001b[43mconstraints\u001b[49m\u001b[43m,\u001b[49m\n\u001b[1;32m    710\u001b[0m \u001b[43m                                       \u001b[49m\u001b[43mcallback\u001b[49m\u001b[38;5;241;43m=\u001b[39;49m\u001b[43mcallback\u001b[49m\u001b[43m,\u001b[49m\u001b[43m \u001b[49m\u001b[38;5;241;43m*\u001b[39;49m\u001b[38;5;241;43m*\u001b[39;49m\u001b[43moptions\u001b[49m\u001b[43m)\u001b[49m\n\u001b[1;32m    711\u001b[0m \u001b[38;5;28;01melif\u001b[39;00m meth \u001b[38;5;241m==\u001b[39m \u001b[38;5;124m'\u001b[39m\u001b[38;5;124mdogleg\u001b[39m\u001b[38;5;124m'\u001b[39m:\n\u001b[1;32m    712\u001b[0m     res \u001b[38;5;241m=\u001b[39m _minimize_dogleg(fun, x0, args, jac, hess,\n\u001b[1;32m    713\u001b[0m                            callback\u001b[38;5;241m=\u001b[39mcallback, \u001b[38;5;241m*\u001b[39m\u001b[38;5;241m*\u001b[39moptions)\n",
      "File \u001b[0;32m~/Library/Python/3.9/lib/python/site-packages/scipy/optimize/_trustregion_constr/minimize_trustregion_constr.py:332\u001b[0m, in \u001b[0;36m_minimize_trustregion_constr\u001b[0;34m(fun, x0, args, grad, hess, hessp, bounds, constraints, xtol, gtol, barrier_tol, sparse_jacobian, callback, maxiter, verbose, finite_diff_rel_step, initial_constr_penalty, initial_tr_radius, initial_barrier_parameter, initial_barrier_tolerance, factorization_method, disp)\u001b[0m\n\u001b[1;32m    329\u001b[0m     finite_diff_bounds \u001b[38;5;241m=\u001b[39m (\u001b[38;5;241m-\u001b[39mnp\u001b[38;5;241m.\u001b[39minf, np\u001b[38;5;241m.\u001b[39minf)\n\u001b[1;32m    331\u001b[0m \u001b[38;5;66;03m# Define Objective Function\u001b[39;00m\n\u001b[0;32m--> 332\u001b[0m objective \u001b[38;5;241m=\u001b[39m \u001b[43mScalarFunction\u001b[49m\u001b[43m(\u001b[49m\u001b[43mfun\u001b[49m\u001b[43m,\u001b[49m\u001b[43m \u001b[49m\u001b[43mx0\u001b[49m\u001b[43m,\u001b[49m\u001b[43m \u001b[49m\u001b[43margs\u001b[49m\u001b[43m,\u001b[49m\u001b[43m \u001b[49m\u001b[43mgrad\u001b[49m\u001b[43m,\u001b[49m\u001b[43m \u001b[49m\u001b[43mhess\u001b[49m\u001b[43m,\u001b[49m\n\u001b[1;32m    333\u001b[0m \u001b[43m                           \u001b[49m\u001b[43mfinite_diff_rel_step\u001b[49m\u001b[43m,\u001b[49m\u001b[43m \u001b[49m\u001b[43mfinite_diff_bounds\u001b[49m\u001b[43m)\u001b[49m\n\u001b[1;32m    335\u001b[0m \u001b[38;5;66;03m# Put constraints in list format when needed.\u001b[39;00m\n\u001b[1;32m    336\u001b[0m \u001b[38;5;28;01mif\u001b[39;00m \u001b[38;5;28misinstance\u001b[39m(constraints, (NonlinearConstraint, LinearConstraint)):\n",
      "File \u001b[0;32m~/Library/Python/3.9/lib/python/site-packages/scipy/optimize/_differentiable_functions.py:177\u001b[0m, in \u001b[0;36mScalarFunction.__init__\u001b[0;34m(self, fun, x0, args, grad, hess, finite_diff_rel_step, finite_diff_bounds, epsilon)\u001b[0m\n\u001b[1;32m    173\u001b[0m         \u001b[38;5;28mself\u001b[39m\u001b[38;5;241m.\u001b[39mg \u001b[38;5;241m=\u001b[39m approx_derivative(fun_wrapped, \u001b[38;5;28mself\u001b[39m\u001b[38;5;241m.\u001b[39mx, f0\u001b[38;5;241m=\u001b[39m\u001b[38;5;28mself\u001b[39m\u001b[38;5;241m.\u001b[39mf,\n\u001b[1;32m    174\u001b[0m                                    \u001b[38;5;241m*\u001b[39m\u001b[38;5;241m*\u001b[39mfinite_diff_options)\n\u001b[1;32m    176\u001b[0m \u001b[38;5;28mself\u001b[39m\u001b[38;5;241m.\u001b[39m_update_grad_impl \u001b[38;5;241m=\u001b[39m update_grad\n\u001b[0;32m--> 177\u001b[0m \u001b[38;5;28;43mself\u001b[39;49m\u001b[38;5;241;43m.\u001b[39;49m\u001b[43m_update_grad\u001b[49m\u001b[43m(\u001b[49m\u001b[43m)\u001b[49m\n\u001b[1;32m    179\u001b[0m \u001b[38;5;66;03m# Hessian Evaluation\u001b[39;00m\n\u001b[1;32m    180\u001b[0m \u001b[38;5;28;01mif\u001b[39;00m callable(hess):\n",
      "File \u001b[0;32m~/Library/Python/3.9/lib/python/site-packages/scipy/optimize/_differentiable_functions.py:256\u001b[0m, in \u001b[0;36mScalarFunction._update_grad\u001b[0;34m(self)\u001b[0m\n\u001b[1;32m    254\u001b[0m \u001b[38;5;28;01mdef\u001b[39;00m \u001b[38;5;21m_update_grad\u001b[39m(\u001b[38;5;28mself\u001b[39m):\n\u001b[1;32m    255\u001b[0m     \u001b[38;5;28;01mif\u001b[39;00m \u001b[38;5;129;01mnot\u001b[39;00m \u001b[38;5;28mself\u001b[39m\u001b[38;5;241m.\u001b[39mg_updated:\n\u001b[0;32m--> 256\u001b[0m         \u001b[38;5;28;43mself\u001b[39;49m\u001b[38;5;241;43m.\u001b[39;49m\u001b[43m_update_grad_impl\u001b[49m\u001b[43m(\u001b[49m\u001b[43m)\u001b[49m\n\u001b[1;32m    257\u001b[0m         \u001b[38;5;28mself\u001b[39m\u001b[38;5;241m.\u001b[39mg_updated \u001b[38;5;241m=\u001b[39m \u001b[38;5;28;01mTrue\u001b[39;00m\n",
      "File \u001b[0;32m~/Library/Python/3.9/lib/python/site-packages/scipy/optimize/_differentiable_functions.py:173\u001b[0m, in \u001b[0;36mScalarFunction.__init__.<locals>.update_grad\u001b[0;34m()\u001b[0m\n\u001b[1;32m    171\u001b[0m \u001b[38;5;28mself\u001b[39m\u001b[38;5;241m.\u001b[39m_update_fun()\n\u001b[1;32m    172\u001b[0m \u001b[38;5;28mself\u001b[39m\u001b[38;5;241m.\u001b[39mngev \u001b[38;5;241m+\u001b[39m\u001b[38;5;241m=\u001b[39m \u001b[38;5;241m1\u001b[39m\n\u001b[0;32m--> 173\u001b[0m \u001b[38;5;28mself\u001b[39m\u001b[38;5;241m.\u001b[39mg \u001b[38;5;241m=\u001b[39m \u001b[43mapprox_derivative\u001b[49m\u001b[43m(\u001b[49m\u001b[43mfun_wrapped\u001b[49m\u001b[43m,\u001b[49m\u001b[43m \u001b[49m\u001b[38;5;28;43mself\u001b[39;49m\u001b[38;5;241;43m.\u001b[39;49m\u001b[43mx\u001b[49m\u001b[43m,\u001b[49m\u001b[43m \u001b[49m\u001b[43mf0\u001b[49m\u001b[38;5;241;43m=\u001b[39;49m\u001b[38;5;28;43mself\u001b[39;49m\u001b[38;5;241;43m.\u001b[39;49m\u001b[43mf\u001b[49m\u001b[43m,\u001b[49m\n\u001b[1;32m    174\u001b[0m \u001b[43m                           \u001b[49m\u001b[38;5;241;43m*\u001b[39;49m\u001b[38;5;241;43m*\u001b[39;49m\u001b[43mfinite_diff_options\u001b[49m\u001b[43m)\u001b[49m\n",
      "File \u001b[0;32m~/Library/Python/3.9/lib/python/site-packages/scipy/optimize/_numdiff.py:443\u001b[0m, in \u001b[0;36mapprox_derivative\u001b[0;34m(fun, x0, method, rel_step, abs_step, f0, bounds, sparsity, as_linear_operator, args, kwargs)\u001b[0m\n\u001b[1;32m    441\u001b[0m x0 \u001b[38;5;241m=\u001b[39m np\u001b[38;5;241m.\u001b[39matleast_1d(x0)\n\u001b[1;32m    442\u001b[0m \u001b[38;5;28;01mif\u001b[39;00m x0\u001b[38;5;241m.\u001b[39mndim \u001b[38;5;241m>\u001b[39m \u001b[38;5;241m1\u001b[39m:\n\u001b[0;32m--> 443\u001b[0m     \u001b[38;5;28;01mraise\u001b[39;00m \u001b[38;5;167;01mValueError\u001b[39;00m(\u001b[38;5;124m\"\u001b[39m\u001b[38;5;124m`x0` must have at most 1 dimension.\u001b[39m\u001b[38;5;124m\"\u001b[39m)\n\u001b[1;32m    445\u001b[0m lb, ub \u001b[38;5;241m=\u001b[39m _prepare_bounds(bounds, x0)\n\u001b[1;32m    447\u001b[0m \u001b[38;5;28;01mif\u001b[39;00m lb\u001b[38;5;241m.\u001b[39mshape \u001b[38;5;241m!=\u001b[39m x0\u001b[38;5;241m.\u001b[39mshape \u001b[38;5;129;01mor\u001b[39;00m ub\u001b[38;5;241m.\u001b[39mshape \u001b[38;5;241m!=\u001b[39m x0\u001b[38;5;241m.\u001b[39mshape:\n",
      "\u001b[0;31mValueError\u001b[0m: `x0` must have at most 1 dimension."
     ]
    }
   ],
   "source": [
    "tot_cost=0\n",
    "for t in range(T): #for each hour\n",
    "    \n",
    "    x_0 = x#.reshape(-1)\n",
    "    \n",
    "    res = minimize(\n",
    "        cost_function, \n",
    "        #method='trust-constr',\n",
    "        #jac='2-point', \n",
    "        #hess=SR1(),\n",
    "        x0=x_0, \n",
    "        args=(delta_SOC, electricity_cost, investment_cost, v_t), \n",
    "        constraints=cons\n",
    "    )\n",
    "    \n",
    "    cost[t]=np.float64(res.fun)-investment_cost*v_t\n",
    "    \n",
    "    for i in range(len(electricity_cost)):\n",
    "        f[i] = max(f[i], sum(x[j][i] for j in range(v_t)))\n",
    "    \n",
    "    tot_cost= tot_cost+cost[t]\n",
    "    #counters to zero\n",
    "    delta_SOC = np.zeros(v_t)\n",
    "    delta_SOC_pos = np.zeros(v_t)\n",
    "    i=0\n",
    "    j=0\n",
    "    \n",
    "    for j in range(v_t): #for each vehicle I check\n",
    "        \n",
    "        if SOC[j][0] < 100 and SOC[j][1] == 1:\n",
    "            #charging process\n",
    "            en=np.dot(x[j,:], r_s)\n",
    "            SOC[j][0] = SOC[j][0] + en\n",
    "            E_abs = E_abs+en\n",
    "            delta_SOC[j] = en\n",
    "            print(SOC)\n",
    "            \n",
    "        elif SOC[j][0] <= threshold and SOC[j][1] == 0: \n",
    "            #I start the charging process\n",
    "            SOC[j][1] = 1\n",
    "        \n",
    "        elif SOC[j][0] >= threshold and SOC[j][0] <= 100 and SOC[j][1] == 0:\n",
    "            #Using the vehicle\n",
    "            SOC[j][0]=SOC[j][0]-d_s\n",
    "            E_diss=E_diss+d_s\n",
    "            delta_SOC_pos[j] = d_s\n",
    "        \n",
    "        \n",
    "            \n",
    "        elif SOC[j][0] >= 100 and SOC[j][1] == 1:\n",
    "            #stop the charging process\n",
    "            SOC[j][1] = 0\n",
    "            SOC[j][0] = 100\n",
    "        \n",
    "        elif SOC[j][0] >= 100 and SOC[j][1] == 0:\n",
    "            SOC[j][1] = 0\n",
    "            SOC[j][0] = 100\n",
    "            \n",
    "    charging=np.int32(sum(SOC[j][1] for j in range(v_t)))\n",
    "    \n",
    "    if v_t-charging < demand[t]: #Guarantee the satisfaction of the demand\n",
    "        n_new_vehicles = np.int32(demand[t] - (v_t - charging))\n",
    "        v_t = v_t + n_new_vehicles\n",
    "        new_vehicle = np.array([100, 0])\n",
    "        addendum = np.tile(new_vehicle, (n_new_vehicles,1))\n",
    "        SOC = np.append(SOC,addendum,axis=0)\n",
    "        delta_SOC = np.append(delta_SOC,np.zeros(n_new_vehicles),axis=0)\n",
    "        #delta_SOC + 0*n_new_vehicles\n",
    "        new = np.tile([0,0,0,0], (n_new_vehicles,1))\n",
    "        x = np.vstack([x,new])\n",
    "    \n",
    "    #print(delta_SOC)\n",
    "\n",
    "    print(SOC)\n",
    "    \n",
    "if E_abs<=E_diss:\n",
    "    print(\"Error, energy balance not respected\")\n",
    "    \n",
    "tot_cost=tot_cost+investment_cost*v_t\n",
    "print(cost, tot_cost, f)"
   ]
  }
 ],
 "metadata": {
  "kernelspec": {
   "display_name": "Python 3 (ipykernel)",
   "language": "python",
   "name": "python3"
  },
  "language_info": {
   "codemirror_mode": {
    "name": "ipython",
    "version": 3
   },
   "file_extension": ".py",
   "mimetype": "text/x-python",
   "name": "python",
   "nbconvert_exporter": "python",
   "pygments_lexer": "ipython3",
   "version": "3.9.6"
  }
 },
 "nbformat": 4,
 "nbformat_minor": 5
}
