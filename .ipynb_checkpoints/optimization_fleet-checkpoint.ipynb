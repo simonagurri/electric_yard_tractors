{
 "cells": [
  {
   "cell_type": "code",
   "execution_count": null,
   "id": "db4ae0e8",
   "metadata": {},
   "outputs": [],
   "source": [
    "import numpy as np\n",
    "from scipy.optimize import minimize, LinearConstraint"
   ]
  },
  {
   "cell_type": "markdown",
   "id": "c79617c6",
   "metadata": {},
   "source": [
    "# Fleet optimisation and charging infrastructure dimensioning\n",
    "## Dynamic programming approach\n",
    "We use the demand at each hour for dimensioning the electric fleet and the charging infrastructure.\n",
    "- We assume that we can choose only one kind of vehicle \n",
    "- We assume that we don't have any budget constrain\n",
    "- We assume that we don't have any maximum power constrain"
   ]
  },
  {
   "cell_type": "markdown",
   "id": "f7e2fc08",
   "metadata": {},
   "source": [
    "### Parameter introduction and initialization"
   ]
  },
  {
   "cell_type": "code",
   "execution_count": 6,
   "id": "73b5f374",
   "metadata": {
    "slideshow": {
     "slide_type": "subslide"
    }
   },
   "outputs": [
    {
     "name": "stdout",
     "output_type": "stream",
     "text": [
      "[[72.  0.]\n",
      " [93.  0.]\n",
      " [89.  0.]\n",
      " [83.  0.]\n",
      " [82.  0.]\n",
      " [95.  0.]\n",
      " [72.  0.]\n",
      " [90.  0.]\n",
      " [76.  0.]\n",
      " [72.  0.]]\n"
     ]
    },
    {
     "ename": "TypeError",
     "evalue": "only integer scalar arrays can be converted to a scalar index",
     "output_type": "error",
     "traceback": [
      "\u001b[0;31m---------------------------------------------------------------------------\u001b[0m",
      "\u001b[0;31mTypeError\u001b[0m                                 Traceback (most recent call last)",
      "Cell \u001b[0;32mIn[6], line 53\u001b[0m\n\u001b[1;32m     48\u001b[0m     \u001b[38;5;28;01mreturn\u001b[39;00m investment_cost\u001b[38;5;241m*\u001b[39mv_t \u001b[38;5;241m+\u001b[39m np\u001b[38;5;241m.\u001b[39mdot(np\u001b[38;5;241m.\u001b[39mdot(delta_SOC,x\u001b[38;5;241m.\u001b[39mreshape(v_t, \u001b[38;5;28mlen\u001b[39m(electricity_cost))), electricity_cost) \u001b[38;5;66;03m#objective function\u001b[39;00m\n\u001b[1;32m     51\u001b[0m delta_SOC \u001b[38;5;241m=\u001b[39m np\u001b[38;5;241m.\u001b[39mzeros(v_t)\n\u001b[0;32m---> 53\u001b[0m bounds \u001b[38;5;241m=\u001b[39m \u001b[43mnp\u001b[49m\u001b[38;5;241;43m.\u001b[39;49m\u001b[43marray\u001b[49m\u001b[43m(\u001b[49m\u001b[43m[\u001b[49m\u001b[43m(\u001b[49m\u001b[38;5;241;43m0\u001b[39;49m\u001b[43m,\u001b[49m\u001b[43m \u001b[49m\u001b[38;5;241;43m1\u001b[39;49m\u001b[43m)\u001b[49m\u001b[43m \u001b[49m\u001b[38;5;28;43;01mfor\u001b[39;49;00m\u001b[43m \u001b[49m\u001b[43mi\u001b[49m\u001b[43m \u001b[49m\u001b[38;5;129;43;01min\u001b[39;49;00m\u001b[43m \u001b[49m\u001b[38;5;28;43mrange\u001b[39;49m\u001b[43m(\u001b[49m\u001b[38;5;28;43mlen\u001b[39;49m\u001b[43m(\u001b[49m\u001b[43melectricity_cost\u001b[49m\u001b[43m)\u001b[49m\u001b[38;5;241;43m*\u001b[39;49m\u001b[43mv_t\u001b[49m\u001b[43m)\u001b[49m\u001b[43m]\u001b[49m\u001b[43m)\u001b[49m\u001b[38;5;241;43m.\u001b[39;49m\u001b[43mreshape\u001b[49m\u001b[43m(\u001b[49m\u001b[43m(\u001b[49m\u001b[43mv_t\u001b[49m\u001b[43m,\u001b[49m\u001b[43melectricity_cost\u001b[49m\u001b[43m)\u001b[49m\u001b[43m)\u001b[49m\n\u001b[1;32m     54\u001b[0m cons \u001b[38;5;241m=\u001b[39m [{\u001b[38;5;124m'\u001b[39m\u001b[38;5;124mtype\u001b[39m\u001b[38;5;124m'\u001b[39m: \u001b[38;5;124m'\u001b[39m\u001b[38;5;124meq\u001b[39m\u001b[38;5;124m'\u001b[39m, \u001b[38;5;124m'\u001b[39m\u001b[38;5;124mfun\u001b[39m\u001b[38;5;124m'\u001b[39m: \u001b[38;5;28;01mlambda\u001b[39;00m x: np\u001b[38;5;241m.\u001b[39msum(x\u001b[38;5;241m.\u001b[39mreshape(\u001b[38;5;241m-\u001b[39m\u001b[38;5;241m1\u001b[39m))\u001b[38;5;241m-\u001b[39mcharging}, \u001b[38;5;66;03m#not respected, why?\u001b[39;00m\n\u001b[1;32m     55\u001b[0m         {\u001b[38;5;124m'\u001b[39m\u001b[38;5;124mtype\u001b[39m\u001b[38;5;124m'\u001b[39m: \u001b[38;5;124m'\u001b[39m\u001b[38;5;124mineq\u001b[39m\u001b[38;5;124m'\u001b[39m, \u001b[38;5;124m'\u001b[39m\u001b[38;5;124mfun\u001b[39m\u001b[38;5;124m'\u001b[39m: \u001b[38;5;28;01mlambda\u001b[39;00m x: \u001b[38;5;241m1\u001b[39m\u001b[38;5;241m-\u001b[39mnp\u001b[38;5;241m.\u001b[39msum(x[\u001b[38;5;241m0\u001b[39m])},\n\u001b[1;32m     56\u001b[0m         {\u001b[38;5;124m'\u001b[39m\u001b[38;5;124mtype\u001b[39m\u001b[38;5;124m'\u001b[39m: \u001b[38;5;124m'\u001b[39m\u001b[38;5;124mineq\u001b[39m\u001b[38;5;124m'\u001b[39m, \u001b[38;5;124m'\u001b[39m\u001b[38;5;124mfun\u001b[39m\u001b[38;5;124m'\u001b[39m: \u001b[38;5;28;01mlambda\u001b[39;00m x: \u001b[38;5;241m1\u001b[39m\u001b[38;5;241m-\u001b[39mnp\u001b[38;5;241m.\u001b[39msum(x[\u001b[38;5;241m1\u001b[39m])},\n\u001b[0;32m   (...)\u001b[0m\n\u001b[1;32m     60\u001b[0m         \u001b[38;5;66;03m#{'type': 'ineq', 'fun': lambda x: 0.5 - x[0]}\u001b[39;00m\n\u001b[1;32m     61\u001b[0m        ]\n",
      "\u001b[0;31mTypeError\u001b[0m: only integer scalar arrays can be converted to a scalar index"
     ]
    }
   ],
   "source": [
    "import numpy as np\n",
    "from scipy.optimize import minimize, LinearConstraint, SR1\n",
    "\n",
    "rng = np.random.default_rng(seed=42) #seed for reproducible results\n",
    "\n",
    "\n",
    "demand=[10,10,10,12,12,12,10,11,11,10,3,10]#,10,10,10,10,10,10,4,6,6,4,10,7,10,10,10,10,10,10,4,6,6,4,10,10,10,10,10,10,10,10,4,6,6,4,10,7]\n",
    "\n",
    "T=len(demand)\n",
    "battery_capacity=112 #kWh SOC=100%\n",
    "charging_powers=np.array([7.4, 20, 100, 350])\n",
    "r_s=[1/(battery_capacity/charging_powers[0])*100, \n",
    "     1/(0.95*battery_capacity/charging_powers[1]+0.5)*100, \n",
    "     1/(0.95*battery_capacity/charging_powers[2]+0.5)*100, \n",
    "     1/(0.95*battery_capacity/charging_powers[3]+0.5)*100] #recharge rate 1/h\n",
    "investment_cost=10000 #euros\n",
    "electricity_cost=np.array([0.1, 0.3, 0.5, 0.8])\n",
    "power_per_hour=14.43 #kW/h\n",
    "d_s=1/(battery_capacity/power_per_hour)*100 #discharge rate 1/h\n",
    "\n",
    "E_diss=0 #energy consumption in operation\n",
    "E_abs=0 #energy used in charge\n",
    "f=[0, 0, 0, 0] #counter of stations for each charging power\n",
    "v_t=demand[0] #initialization of n. min of vehicles to satisfy the demand of the first time\n",
    "\n",
    "x=np.zeros((v_t,len(charging_powers)),dtype=bool) #decision variable, vehicles per station #, dtype=bool_\n",
    "\n",
    "threshold=20 #SOC % for safety reason\n",
    "SOC=np.zeros((v_t, 2))\n",
    "charging=0\n",
    "\n",
    "for j in range(v_t):\n",
    "    SOC[j][0]=rng.integers(low=70, high=100, size=1) #initial SOC randomly chosen\n",
    "    \n",
    "E_abs=sum(SOC[:,0])\n",
    "print(SOC)# for j in range(v_t))\n",
    "cost=np.zeros(T)\n",
    "\n",
    "# def cost_function(x, delta_SOC, electricity_cost, investment_cost, v_t):\n",
    "#     re_delta=np.tile(delta_SOC, len(electricity_cost))\n",
    "#     re_elt=np.stack([electricity_cost[0].repeat(len(delta_SOC)),\n",
    "#                      electricity_cost[1].repeat(len(delta_SOC)),\n",
    "#                      electricity_cost[2].repeat(len(delta_SOC)),\n",
    "#                      electricity_cost[3].repeat(len(delta_SOC))]).reshape(-1)\n",
    "#     return investment_cost*v_t + sum(re_delta* x * re_elt) #objective function #.reshape(-1)\n",
    "\n",
    "def cost_function(x, delta_SOC, electricity_cost, investment_cost, v_t):\n",
    "    return investment_cost*v_t + np.dot(np.dot(delta_SOC,x.reshape(v_t, len(electricity_cost))), electricity_cost) #objective function\n",
    "\n",
    "\n",
    "delta_SOC = np.zeros(v_t)\n",
    "\n",
    "bounds = np.array([(0, 1) for i in range(len(electricity_cost)*v_t)]).reshape((v_t,electricity_cost))\n",
    "cons = [{'type': 'eq', 'fun': lambda x: np.sum(x.reshape(-1))-charging}, #not respected, why?\n",
    "        {'type': 'ineq', 'fun': lambda x: 1-np.sum(x[0])},\n",
    "        {'type': 'ineq', 'fun': lambda x: 1-np.sum(x[1])},\n",
    "        {'type': 'ineq', 'fun': lambda x: 1-np.sum(x[2])},\n",
    "        {'type': 'ineq', 'fun': lambda x: 1-np.sum(x[3])},\n",
    "        #{'type': 'ineq', 'fun': lambda x: x[0] - 0.5},\n",
    "        #{'type': 'ineq', 'fun': lambda x: 0.5 - x[0]}\n",
    "       ]"
   ]
  },
  {
   "cell_type": "code",
   "execution_count": 3,
   "id": "50e6c217",
   "metadata": {
    "slideshow": {
     "slide_type": "subslide"
    }
   },
   "outputs": [
    {
     "name": "stderr",
     "output_type": "stream",
     "text": [
      "/var/folders/x8/typb4bcj1d978dqysxq0mc0r0000gn/T/ipykernel_95851/3248836449.py:55: DeprecationWarning: Use of `minimize` with `x0.ndim != 1` is deprecated. Currently, singleton dimensions will be removed from `x0`, but an error will be raised in SciPy 1.11.0.\n",
      "  res = minimize(\n"
     ]
    },
    {
     "ename": "ValueError",
     "evalue": "operands could not be broadcast together with remapped shapes [original->remapped]: (40,)  and requested shape (10,)",
     "output_type": "error",
     "traceback": [
      "\u001b[0;31m---------------------------------------------------------------------------\u001b[0m",
      "\u001b[0;31mValueError\u001b[0m                                Traceback (most recent call last)",
      "Cell \u001b[0;32mIn[3], line 55\u001b[0m\n\u001b[1;32m     51\u001b[0m     x \u001b[38;5;241m=\u001b[39m np\u001b[38;5;241m.\u001b[39mvstack([x,new])\n\u001b[1;32m     53\u001b[0m x_0 \u001b[38;5;241m=\u001b[39m x\n\u001b[0;32m---> 55\u001b[0m res \u001b[38;5;241m=\u001b[39m \u001b[43mminimize\u001b[49m\u001b[43m(\u001b[49m\n\u001b[1;32m     56\u001b[0m \u001b[43m    \u001b[49m\u001b[43mcost_function\u001b[49m\u001b[43m,\u001b[49m\u001b[43m \u001b[49m\n\u001b[1;32m     57\u001b[0m \u001b[43m    \u001b[49m\u001b[43mx0\u001b[49m\u001b[38;5;241;43m=\u001b[39;49m\u001b[43mx_0\u001b[49m\u001b[43m,\u001b[49m\u001b[43m \u001b[49m\n\u001b[1;32m     58\u001b[0m \u001b[43m    \u001b[49m\u001b[43margs\u001b[49m\u001b[38;5;241;43m=\u001b[39;49m\u001b[43m(\u001b[49m\u001b[43mdelta_SOC\u001b[49m\u001b[43m,\u001b[49m\u001b[43m \u001b[49m\u001b[43melectricity_cost\u001b[49m\u001b[43m,\u001b[49m\u001b[43m \u001b[49m\u001b[43minvestment_cost\u001b[49m\u001b[43m,\u001b[49m\u001b[43m \u001b[49m\u001b[43mv_t\u001b[49m\u001b[43m)\u001b[49m\u001b[43m,\u001b[49m\u001b[43m \u001b[49m\n\u001b[1;32m     59\u001b[0m \u001b[43m    \u001b[49m\u001b[43mconstraints\u001b[49m\u001b[38;5;241;43m=\u001b[39;49m\u001b[43mcons\u001b[49m\u001b[43m,\u001b[49m\u001b[43m \u001b[49m\u001b[43mbounds\u001b[49m\u001b[38;5;241;43m=\u001b[39;49m\u001b[43mbounds\u001b[49m\n\u001b[1;32m     60\u001b[0m \u001b[43m\u001b[49m\u001b[43m)\u001b[49m\n\u001b[1;32m     62\u001b[0m cost[t]\u001b[38;5;241m=\u001b[39mnp\u001b[38;5;241m.\u001b[39mfloat64(res\u001b[38;5;241m.\u001b[39mfun)\u001b[38;5;241m-\u001b[39minvestment_cost\u001b[38;5;241m*\u001b[39mv_t\n\u001b[1;32m     63\u001b[0m x\u001b[38;5;241m=\u001b[39mnp\u001b[38;5;241m.\u001b[39marray(res\u001b[38;5;241m.\u001b[39mx)\u001b[38;5;241m.\u001b[39mreshape(v_t, \u001b[38;5;28mlen\u001b[39m(electricity_cost))\n",
      "File \u001b[0;32m~/Library/Python/3.9/lib/python/site-packages/scipy/optimize/_minimize.py:681\u001b[0m, in \u001b[0;36mminimize\u001b[0;34m(fun, x0, args, method, jac, hess, hessp, bounds, constraints, tol, callback, options)\u001b[0m\n\u001b[1;32m    677\u001b[0m                 \u001b[38;5;28;01mif\u001b[39;00m callable(con\u001b[38;5;241m.\u001b[39mget(\u001b[38;5;124m'\u001b[39m\u001b[38;5;124mjac\u001b[39m\u001b[38;5;124m'\u001b[39m, \u001b[38;5;28;01mNone\u001b[39;00m)):\n\u001b[1;32m    678\u001b[0m                     con[\u001b[38;5;124m'\u001b[39m\u001b[38;5;124mjac\u001b[39m\u001b[38;5;124m'\u001b[39m] \u001b[38;5;241m=\u001b[39m _remove_from_func(con[\u001b[38;5;124m'\u001b[39m\u001b[38;5;124mjac\u001b[39m\u001b[38;5;124m'\u001b[39m], i_fixed,\n\u001b[1;32m    679\u001b[0m                                                    x_fixed, min_dim\u001b[38;5;241m=\u001b[39m\u001b[38;5;241m2\u001b[39m,\n\u001b[1;32m    680\u001b[0m                                                    remove\u001b[38;5;241m=\u001b[39m\u001b[38;5;241m1\u001b[39m)\n\u001b[0;32m--> 681\u001b[0m     bounds \u001b[38;5;241m=\u001b[39m \u001b[43mstandardize_bounds\u001b[49m\u001b[43m(\u001b[49m\u001b[43mbounds\u001b[49m\u001b[43m,\u001b[49m\u001b[43m \u001b[49m\u001b[43mx0\u001b[49m\u001b[43m,\u001b[49m\u001b[43m \u001b[49m\u001b[43mmeth\u001b[49m\u001b[43m)\u001b[49m\n\u001b[1;32m    683\u001b[0m \u001b[38;5;28;01mif\u001b[39;00m meth \u001b[38;5;241m==\u001b[39m \u001b[38;5;124m'\u001b[39m\u001b[38;5;124mnelder-mead\u001b[39m\u001b[38;5;124m'\u001b[39m:\n\u001b[1;32m    684\u001b[0m     res \u001b[38;5;241m=\u001b[39m _minimize_neldermead(fun, x0, args, callback, bounds\u001b[38;5;241m=\u001b[39mbounds,\n\u001b[1;32m    685\u001b[0m                                \u001b[38;5;241m*\u001b[39m\u001b[38;5;241m*\u001b[39moptions)\n",
      "File \u001b[0;32m~/Library/Python/3.9/lib/python/site-packages/scipy/optimize/_minimize.py:969\u001b[0m, in \u001b[0;36mstandardize_bounds\u001b[0;34m(bounds, x0, meth)\u001b[0m\n\u001b[1;32m    967\u001b[0m \u001b[38;5;28;01melif\u001b[39;00m meth \u001b[38;5;129;01min\u001b[39;00m (\u001b[38;5;124m'\u001b[39m\u001b[38;5;124ml-bfgs-b\u001b[39m\u001b[38;5;124m'\u001b[39m, \u001b[38;5;124m'\u001b[39m\u001b[38;5;124mtnc\u001b[39m\u001b[38;5;124m'\u001b[39m, \u001b[38;5;124m'\u001b[39m\u001b[38;5;124mslsqp\u001b[39m\u001b[38;5;124m'\u001b[39m, \u001b[38;5;124m'\u001b[39m\u001b[38;5;124mold\u001b[39m\u001b[38;5;124m'\u001b[39m):\n\u001b[1;32m    968\u001b[0m     \u001b[38;5;28;01mif\u001b[39;00m \u001b[38;5;28misinstance\u001b[39m(bounds, Bounds):\n\u001b[0;32m--> 969\u001b[0m         bounds \u001b[38;5;241m=\u001b[39m \u001b[43mnew_bounds_to_old\u001b[49m\u001b[43m(\u001b[49m\u001b[43mbounds\u001b[49m\u001b[38;5;241;43m.\u001b[39;49m\u001b[43mlb\u001b[49m\u001b[43m,\u001b[49m\u001b[43m \u001b[49m\u001b[43mbounds\u001b[49m\u001b[38;5;241;43m.\u001b[39;49m\u001b[43mub\u001b[49m\u001b[43m,\u001b[49m\u001b[43m \u001b[49m\u001b[43mx0\u001b[49m\u001b[38;5;241;43m.\u001b[39;49m\u001b[43mshape\u001b[49m\u001b[43m[\u001b[49m\u001b[38;5;241;43m0\u001b[39;49m\u001b[43m]\u001b[49m\u001b[43m)\u001b[49m\n\u001b[1;32m    970\u001b[0m \u001b[38;5;28;01mreturn\u001b[39;00m bounds\n",
      "File \u001b[0;32m~/Library/Python/3.9/lib/python/site-packages/scipy/optimize/_constraints.py:398\u001b[0m, in \u001b[0;36mnew_bounds_to_old\u001b[0;34m(lb, ub, n)\u001b[0m\n\u001b[1;32m    389\u001b[0m \u001b[38;5;28;01mdef\u001b[39;00m \u001b[38;5;21mnew_bounds_to_old\u001b[39m(lb, ub, n):\n\u001b[1;32m    390\u001b[0m \u001b[38;5;250m    \u001b[39m\u001b[38;5;124;03m\"\"\"Convert the new bounds representation to the old one.\u001b[39;00m\n\u001b[1;32m    391\u001b[0m \n\u001b[1;32m    392\u001b[0m \u001b[38;5;124;03m    The new representation is a tuple (lb, ub) and the old one is a list\u001b[39;00m\n\u001b[0;32m   (...)\u001b[0m\n\u001b[1;32m    396\u001b[0m \u001b[38;5;124;03m    None.\u001b[39;00m\n\u001b[1;32m    397\u001b[0m \u001b[38;5;124;03m    \"\"\"\u001b[39;00m\n\u001b[0;32m--> 398\u001b[0m     lb \u001b[38;5;241m=\u001b[39m \u001b[43mnp\u001b[49m\u001b[38;5;241;43m.\u001b[39;49m\u001b[43mbroadcast_to\u001b[49m\u001b[43m(\u001b[49m\u001b[43mlb\u001b[49m\u001b[43m,\u001b[49m\u001b[43m \u001b[49m\u001b[43mn\u001b[49m\u001b[43m)\u001b[49m\n\u001b[1;32m    399\u001b[0m     ub \u001b[38;5;241m=\u001b[39m np\u001b[38;5;241m.\u001b[39mbroadcast_to(ub, n)\n\u001b[1;32m    401\u001b[0m     lb \u001b[38;5;241m=\u001b[39m [\u001b[38;5;28mfloat\u001b[39m(x) \u001b[38;5;28;01mif\u001b[39;00m x \u001b[38;5;241m>\u001b[39m \u001b[38;5;241m-\u001b[39mnp\u001b[38;5;241m.\u001b[39minf \u001b[38;5;28;01melse\u001b[39;00m \u001b[38;5;28;01mNone\u001b[39;00m \u001b[38;5;28;01mfor\u001b[39;00m x \u001b[38;5;129;01min\u001b[39;00m lb]\n",
      "File \u001b[0;32m<__array_function__ internals>:200\u001b[0m, in \u001b[0;36mbroadcast_to\u001b[0;34m(*args, **kwargs)\u001b[0m\n",
      "File \u001b[0;32m~/Library/Python/3.9/lib/python/site-packages/numpy/lib/stride_tricks.py:413\u001b[0m, in \u001b[0;36mbroadcast_to\u001b[0;34m(array, shape, subok)\u001b[0m\n\u001b[1;32m    367\u001b[0m \u001b[38;5;129m@array_function_dispatch\u001b[39m(_broadcast_to_dispatcher, module\u001b[38;5;241m=\u001b[39m\u001b[38;5;124m'\u001b[39m\u001b[38;5;124mnumpy\u001b[39m\u001b[38;5;124m'\u001b[39m)\n\u001b[1;32m    368\u001b[0m \u001b[38;5;28;01mdef\u001b[39;00m \u001b[38;5;21mbroadcast_to\u001b[39m(array, shape, subok\u001b[38;5;241m=\u001b[39m\u001b[38;5;28;01mFalse\u001b[39;00m):\n\u001b[1;32m    369\u001b[0m \u001b[38;5;250m    \u001b[39m\u001b[38;5;124;03m\"\"\"Broadcast an array to a new shape.\u001b[39;00m\n\u001b[1;32m    370\u001b[0m \n\u001b[1;32m    371\u001b[0m \u001b[38;5;124;03m    Parameters\u001b[39;00m\n\u001b[0;32m   (...)\u001b[0m\n\u001b[1;32m    411\u001b[0m \u001b[38;5;124;03m           [1, 2, 3]])\u001b[39;00m\n\u001b[1;32m    412\u001b[0m \u001b[38;5;124;03m    \"\"\"\u001b[39;00m\n\u001b[0;32m--> 413\u001b[0m     \u001b[38;5;28;01mreturn\u001b[39;00m \u001b[43m_broadcast_to\u001b[49m\u001b[43m(\u001b[49m\u001b[43marray\u001b[49m\u001b[43m,\u001b[49m\u001b[43m \u001b[49m\u001b[43mshape\u001b[49m\u001b[43m,\u001b[49m\u001b[43m \u001b[49m\u001b[43msubok\u001b[49m\u001b[38;5;241;43m=\u001b[39;49m\u001b[43msubok\u001b[49m\u001b[43m,\u001b[49m\u001b[43m \u001b[49m\u001b[43mreadonly\u001b[49m\u001b[38;5;241;43m=\u001b[39;49m\u001b[38;5;28;43;01mTrue\u001b[39;49;00m\u001b[43m)\u001b[49m\n",
      "File \u001b[0;32m~/Library/Python/3.9/lib/python/site-packages/numpy/lib/stride_tricks.py:349\u001b[0m, in \u001b[0;36m_broadcast_to\u001b[0;34m(array, shape, subok, readonly)\u001b[0m\n\u001b[1;32m    346\u001b[0m     \u001b[38;5;28;01mraise\u001b[39;00m \u001b[38;5;167;01mValueError\u001b[39;00m(\u001b[38;5;124m'\u001b[39m\u001b[38;5;124mall elements of broadcast shape must be non-\u001b[39m\u001b[38;5;124m'\u001b[39m\n\u001b[1;32m    347\u001b[0m                      \u001b[38;5;124m'\u001b[39m\u001b[38;5;124mnegative\u001b[39m\u001b[38;5;124m'\u001b[39m)\n\u001b[1;32m    348\u001b[0m extras \u001b[38;5;241m=\u001b[39m []\n\u001b[0;32m--> 349\u001b[0m it \u001b[38;5;241m=\u001b[39m \u001b[43mnp\u001b[49m\u001b[38;5;241;43m.\u001b[39;49m\u001b[43mnditer\u001b[49m\u001b[43m(\u001b[49m\n\u001b[1;32m    350\u001b[0m \u001b[43m    \u001b[49m\u001b[43m(\u001b[49m\u001b[43marray\u001b[49m\u001b[43m,\u001b[49m\u001b[43m)\u001b[49m\u001b[43m,\u001b[49m\u001b[43m \u001b[49m\u001b[43mflags\u001b[49m\u001b[38;5;241;43m=\u001b[39;49m\u001b[43m[\u001b[49m\u001b[38;5;124;43m'\u001b[39;49m\u001b[38;5;124;43mmulti_index\u001b[39;49m\u001b[38;5;124;43m'\u001b[39;49m\u001b[43m,\u001b[49m\u001b[43m \u001b[49m\u001b[38;5;124;43m'\u001b[39;49m\u001b[38;5;124;43mrefs_ok\u001b[39;49m\u001b[38;5;124;43m'\u001b[39;49m\u001b[43m,\u001b[49m\u001b[43m \u001b[49m\u001b[38;5;124;43m'\u001b[39;49m\u001b[38;5;124;43mzerosize_ok\u001b[39;49m\u001b[38;5;124;43m'\u001b[39;49m\u001b[43m]\u001b[49m\u001b[43m \u001b[49m\u001b[38;5;241;43m+\u001b[39;49m\u001b[43m \u001b[49m\u001b[43mextras\u001b[49m\u001b[43m,\u001b[49m\n\u001b[1;32m    351\u001b[0m \u001b[43m    \u001b[49m\u001b[43mop_flags\u001b[49m\u001b[38;5;241;43m=\u001b[39;49m\u001b[43m[\u001b[49m\u001b[38;5;124;43m'\u001b[39;49m\u001b[38;5;124;43mreadonly\u001b[39;49m\u001b[38;5;124;43m'\u001b[39;49m\u001b[43m]\u001b[49m\u001b[43m,\u001b[49m\u001b[43m \u001b[49m\u001b[43mitershape\u001b[49m\u001b[38;5;241;43m=\u001b[39;49m\u001b[43mshape\u001b[49m\u001b[43m,\u001b[49m\u001b[43m \u001b[49m\u001b[43morder\u001b[49m\u001b[38;5;241;43m=\u001b[39;49m\u001b[38;5;124;43m'\u001b[39;49m\u001b[38;5;124;43mC\u001b[39;49m\u001b[38;5;124;43m'\u001b[39;49m\u001b[43m)\u001b[49m\n\u001b[1;32m    352\u001b[0m \u001b[38;5;28;01mwith\u001b[39;00m it:\n\u001b[1;32m    353\u001b[0m     \u001b[38;5;66;03m# never really has writebackifcopy semantics\u001b[39;00m\n\u001b[1;32m    354\u001b[0m     broadcast \u001b[38;5;241m=\u001b[39m it\u001b[38;5;241m.\u001b[39mitviews[\u001b[38;5;241m0\u001b[39m]\n",
      "\u001b[0;31mValueError\u001b[0m: operands could not be broadcast together with remapped shapes [original->remapped]: (40,)  and requested shape (10,)"
     ]
    }
   ],
   "source": [
    "tot_cost=0\n",
    "for t in range(T): #for each hour\n",
    "    \n",
    "    #counters to zero\n",
    "    delta_SOC = np.zeros(v_t)\n",
    "    delta_SOC_pos = np.zeros(v_t)\n",
    "    i=0\n",
    "    j=0\n",
    "    \n",
    "    \n",
    "    for j in range(v_t): #for each vehicle I check\n",
    "        \n",
    "        if SOC[j][1] == 1 and SOC[j][0] < 100 :\n",
    "            #charging process\n",
    "            en=np.dot(x[j,:], r_s) \n",
    "            SOC[j][0] = SOC[j][0] + en\n",
    "            E_abs = E_abs+en\n",
    "            delta_SOC[j] = en\n",
    "            #print(SOC)\n",
    "            \n",
    "        if SOC[j][1] == 0 and SOC[j][0] <= threshold : \n",
    "            #I start the charging process\n",
    "            SOC[j][1] = 1\n",
    "        \n",
    "        if SOC[j][1] == 0 and SOC[j][0] >= threshold and SOC[j][0] <= 100 :\n",
    "            #Using the vehicle\n",
    "            SOC[j][0]=SOC[j][0]-d_s\n",
    "            E_diss=E_diss+d_s\n",
    "            #delta_SOC_pos[j] = d_s\n",
    "            \n",
    "        if SOC[j][1] == 1 and SOC[j][0] >= 100 :\n",
    "            #stop the charging process\n",
    "            SOC[j][1] = 0\n",
    "            SOC[j][0] = 100\n",
    "        \n",
    "        if SOC[j][1] == 0 and SOC[j][0] >= 100 :\n",
    "            SOC[j][1] = 0\n",
    "            SOC[j][0] = 100\n",
    "            \n",
    "            \n",
    "    charging=np.int32(sum(SOC[j][1] for j in range(v_t)))\n",
    "    \n",
    "    if v_t-charging < demand[t]: #Guarantee the satisfaction of the demand\n",
    "        n_new_vehicles = np.int32(demand[t] - (v_t - charging))\n",
    "        v_t = v_t + n_new_vehicles\n",
    "        new_vehicle = np.array([100, 0])\n",
    "        addendum = np.tile(new_vehicle, (n_new_vehicles,1))\n",
    "        SOC = np.append(SOC,addendum,axis=0)\n",
    "        delta_SOC = np.append(delta_SOC,np.zeros(n_new_vehicles),axis=0)\n",
    "        new = np.tile([0,0,0,0], (n_new_vehicles,1))\n",
    "        x = np.vstack([x,new])\n",
    "    \n",
    "    x_0 = x\n",
    "\n",
    "    res = minimize(\n",
    "        cost_function, \n",
    "        x0=x_0, \n",
    "        args=(delta_SOC, electricity_cost, investment_cost, v_t), \n",
    "        constraints=cons, bounds=bounds\n",
    "    )\n",
    "\n",
    "    cost[t]=np.float64(res.fun)-investment_cost*v_t\n",
    "    x=np.array(res.x).reshape(v_t, len(electricity_cost))\n",
    "    \n",
    "    for i in range(len(electricity_cost)):\n",
    "        f[i] = max(f[i], sum(x[j][i] for j in range(v_t)))\n",
    "    \n",
    "    tot_cost= tot_cost+cost[t]  \n",
    "    print(x)\n",
    "    "
   ]
  },
  {
   "cell_type": "code",
   "execution_count": 3,
   "id": "2b6a008a",
   "metadata": {},
   "outputs": [
    {
     "name": "stdout",
     "output_type": "stream",
     "text": [
      "Error, energy balance not respected\n",
      "[ 0.00000000e+00  0.00000000e+00  0.00000000e+00  0.00000000e+00\n",
      "  0.00000000e+00  0.00000000e+00 -4.69301743e+09  1.89789348e+18\n",
      "  1.85419185e+18  1.85419185e+18  1.85419185e+18  1.85419185e+18] 9.314660889108892e+18 [110417637.50838603, 43326696.29251528, 51362798.768893965, 1.4999999999999947]\n"
     ]
    }
   ],
   "source": [
    "if E_abs<=E_diss:\n",
    "    print(\"Error, energy balance not respected\")\n",
    "    \n",
    "tot_cost=tot_cost+investment_cost*v_t\n",
    "print(cost, tot_cost, f)"
   ]
  },
  {
   "cell_type": "code",
   "execution_count": 21,
   "id": "8439b1ac",
   "metadata": {},
   "outputs": [
    {
     "data": {
      "text/plain": [
       "array([[0., 0., 0., 0.],\n",
       "       [0., 0., 1., 0.],\n",
       "       [0., 0., 0., 0.],\n",
       "       [0., 0., 0., 0.],\n",
       "       [0., 0., 0., 1.],\n",
       "       [0., 0., 0., 0.],\n",
       "       [0., 0., 0., 0.],\n",
       "       [0., 0., 0., 0.],\n",
       "       [0., 0., 0., 1.],\n",
       "       [0., 0., 1., 0.]])"
      ]
     },
     "execution_count": 21,
     "metadata": {},
     "output_type": "execute_result"
    }
   ],
   "source": [
    "# def cost_function(x, delta_SOC, electricity_cost, investment_cost, v_t):\n",
    "# #     re_delta=np.tile(delta_SOC, len(electricity_cost))\n",
    "# #     re_elt=np.stack([electricity_cost[0].repeat(len(delta_SOC)),electricity_cost[1].repeat(len(delta_SOC)),electricity_cost[2].repeat(len(delta_SOC)),electricity_cost[3].repeat(len(delta_SOC))]).reshape(-1)\n",
    "#     return investment_cost*v_t + np.dot(np.dot(delta_SOC,x), electricity_cost) #objective function\n",
    "\n",
    "# def x_number(x, charging):\n",
    "#     return sum(sum(x))-charging #the active variables must be equal to the n. of vehicles that need charging\n",
    "\n",
    "# def x_pow(x):\n",
    "#     return sum(x[:,1])-1  #I can not charge one vehicle with more than one mode\n",
    "\n",
    "# def x_bool(x): \n",
    "#     pass\n",
    "\n",
    "#cons=[{'type':'eq', 'fun': sum(sum(x))-charging}, {'type':'eq', 'fun': sum(x[:,1])-1},]\n",
    "#argss=(x, delta_SOC, electricity_cost, investment_cost, v_t)\n",
    "\n",
    "#     z = np.zeros(v_t*len(electricity_cost))\n",
    "#     z[:charging] = 1\n",
    "#     np.random.shuffle(z)\n",
    "#     z = np.zeros((v_t,len(electricity_cost)))\n",
    "#     z[SOC[:,1]==1]=rng.choice(0,1, p=[0.75, 0.25])\n",
    "#     x_0 = z"
   ]
  }
 ],
 "metadata": {
  "kernelspec": {
   "display_name": "Python 3 (ipykernel)",
   "language": "python",
   "name": "python3"
  },
  "language_info": {
   "codemirror_mode": {
    "name": "ipython",
    "version": 3
   },
   "file_extension": ".py",
   "mimetype": "text/x-python",
   "name": "python",
   "nbconvert_exporter": "python",
   "pygments_lexer": "ipython3",
   "version": "3.9.6"
  }
 },
 "nbformat": 4,
 "nbformat_minor": 5
}
